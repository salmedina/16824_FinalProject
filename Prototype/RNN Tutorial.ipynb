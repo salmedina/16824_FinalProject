{
 "cells": [
  {
   "cell_type": "code",
   "execution_count": 9,
   "metadata": {
    "collapsed": true
   },
   "outputs": [],
   "source": [
    "from __future__ import division\n",
    "import torch\n",
    "import torch.nn as nn\n",
    "import torchvision.datasets as dsets\n",
    "import torchvision.transforms as transforms\n",
    "from torch.autograd import Variable"
   ]
  },
  {
   "cell_type": "markdown",
   "metadata": {},
   "source": [
    "## Hyper-parameters"
   ]
  },
  {
   "cell_type": "code",
   "execution_count": 2,
   "metadata": {
    "collapsed": true
   },
   "outputs": [],
   "source": [
    "sequence_length = 28\n",
    "input_size = 28\n",
    "hidden_size = 128\n",
    "num_layers = 2\n",
    "num_classes = 10\n",
    "batch_size = 100\n",
    "num_epochs = 2\n",
    "learning_rate = 0.01"
   ]
  },
  {
   "cell_type": "code",
   "execution_count": 122,
   "metadata": {
    "collapsed": false
   },
   "outputs": [
    {
     "name": "stdout",
     "output_type": "stream",
     "text": [
      "Files already downloaded\n"
     ]
    }
   ],
   "source": [
    "train_dataset = dsets.MNIST(root='../data/',\n",
    "                           train=True,\n",
    "                           transform=transforms.ToTensor(),\n",
    "                           download=True)\n",
    "\n",
    "test_dataset = dsets.MNIST(root='../data/',\n",
    "                           train=False,\n",
    "                           transform=transforms.ToTensor())"
   ]
  },
  {
   "cell_type": "code",
   "execution_count": 123,
   "metadata": {
    "collapsed": true
   },
   "outputs": [],
   "source": [
    "train_loader = torch.utils.data.DataLoader(dataset=train_dataset,\n",
    "                                           batch_size=batch_size,\n",
    "                                           shuffle=True)\n",
    "\n",
    "test_loader = torch.utils.data.DataLoader(dataset=test_dataset,\n",
    "                                          batch_size=batch_size,\n",
    "                                          shuffle=False)"
   ]
  },
  {
   "cell_type": "code",
   "execution_count": 6,
   "metadata": {
    "collapsed": false
   },
   "outputs": [],
   "source": [
    "class RNN(nn.Module):\n",
    "    def __init__(self, input_size, hidden_size, num_layers, num_classes):\n",
    "        super(RNN, self).__init__()\n",
    "        self.hidden_size = hidden_size\n",
    "        self.num_layers = num_layers\n",
    "        self.lstm = nn.LSTM(input_size, hidden_size, num_layers, batch_first=True)\n",
    "        self.fc = nn.Linear(hidden_size, num_classes)\n",
    "        \n",
    "    def forward(self, x):\n",
    "        h0 = Variable(torch.zeros(self.num_layers, x.size(0), self.hidden_size))\n",
    "        c0 = Variable(torch.zeros(self.num_layers, x.size(0), self.hidden_size))\n",
    "        \n",
    "        out, _ = self.lstm(x, (h0, c0))\n",
    "        out = self.fc(out[:, -1, :])\n",
    "        return out"
   ]
  },
  {
   "cell_type": "code",
   "execution_count": 7,
   "metadata": {
    "collapsed": true
   },
   "outputs": [],
   "source": [
    "rnn = RNN(input_size, hidden_size, num_layers, num_classes)\n",
    "criterion = nn.CrossEntropyLoss()\n",
    "optimizer = torch.optim.Adam(rnn.parameters(), lr=learning_rate)"
   ]
  },
  {
   "cell_type": "code",
   "execution_count": 139,
   "metadata": {
    "collapsed": false
   },
   "outputs": [
    {
     "name": "stdout",
     "output_type": "stream",
     "text": [
      "Epoch [1/2], Step [100/600], Loss: 0.5370\n",
      "Epoch [1/2], Step [200/600], Loss: 0.5094\n",
      "Epoch [1/2], Step [300/600], Loss: 0.2593\n",
      "Epoch [1/2], Step [400/600], Loss: 0.1597\n",
      "Epoch [1/2], Step [500/600], Loss: 0.0562\n",
      "Epoch [1/2], Step [600/600], Loss: 0.3018\n",
      "Epoch [1/2], Step [700/600], Loss: 0.4659\n",
      "Epoch [1/2], Step [800/600], Loss: 0.3592\n",
      "Epoch [1/2], Step [900/600], Loss: 0.3492\n",
      "Epoch [1/2], Step [1000/600], Loss: 0.2787\n",
      "Epoch [1/2], Step [1100/600], Loss: 0.2422\n",
      "Epoch [1/2], Step [1200/600], Loss: 0.0766\n",
      "Epoch [2/2], Step [100/600], Loss: 0.4040\n",
      "Epoch [2/2], Step [200/600], Loss: 0.1881\n",
      "Epoch [2/2], Step [300/600], Loss: 0.2738\n",
      "Epoch [2/2], Step [400/600], Loss: 0.1237\n",
      "Epoch [2/2], Step [500/600], Loss: 0.2097\n",
      "Epoch [2/2], Step [600/600], Loss: 0.2284\n",
      "Epoch [2/2], Step [700/600], Loss: 0.1121\n",
      "Epoch [2/2], Step [800/600], Loss: 0.3286\n",
      "Epoch [2/2], Step [900/600], Loss: 0.0938\n",
      "Epoch [2/2], Step [1000/600], Loss: 0.3386\n",
      "Epoch [2/2], Step [1100/600], Loss: 0.1221\n",
      "Epoch [2/2], Step [1200/600], Loss: 0.2278\n"
     ]
    }
   ],
   "source": [
    "for epoch in range(num_epochs):\n",
    "    for i, (images, labels) in enumerate(custom_train_loader):\n",
    "        images = Variable(images.view(-1, sequence_length, input_size))\n",
    "        labels = Variable(labels)\n",
    "        \n",
    "        optimizer.zero_grad()\n",
    "        outputs = rnn(images)\n",
    "        loss = criterion(outputs, labels)\n",
    "        loss.backward()\n",
    "        optimizer.step()\n",
    "        \n",
    "        if (i+1) % 100 == 0:\n",
    "            print 'Epoch [%d/%d], Step [%d/%d], Loss: %.4f'%(epoch+1, num_epochs, i+1, len(train_dataset)/batch_size, loss.data[0])\n",
    "\n",
    "torch.save(rnn.state_dict(), 'rnn.pkl')"
   ]
  },
  {
   "cell_type": "code",
   "execution_count": 17,
   "metadata": {
    "collapsed": false
   },
   "outputs": [
    {
     "name": "stdout",
     "output_type": "stream",
     "text": [
      "Test Accuracy of the model on the 10,000 test images: 97%\n"
     ]
    }
   ],
   "source": [
    "correct = 0\n",
    "total = 0\n",
    "for images, labels in test_loader:\n",
    "    images = Variable(images.view(-1, sequence_length, input_size))\n",
    "    outputs = rnn(images)\n",
    "    _, predicted = torch.max(outputs.data, 1)\n",
    "    total += labels.size(0)\n",
    "    correct += (predicted == labels).sum()\n",
    "print 'Test Accuracy of the model on the 10,000 test images: %d%%'%(100 * correct / total)"
   ]
  },
  {
   "cell_type": "markdown",
   "metadata": {},
   "source": [
    "## Dataset building"
   ]
  },
  {
   "cell_type": "code",
   "execution_count": 133,
   "metadata": {
    "collapsed": true
   },
   "outputs": [],
   "source": [
    "import torch.utils.data as data\n",
    "from mnist import MNIST\n",
    "import numpy as np\n",
    "\n",
    "mndata = MNIST('/Users/zal/CMU/Spring2017/16824/FinalProject/Data/mnist')\n",
    "train_list = mndata.load_training()\n",
    "test_list = mndata.load_testing()"
   ]
  },
  {
   "cell_type": "code",
   "execution_count": 134,
   "metadata": {
    "collapsed": false
   },
   "outputs": [],
   "source": [
    "train_np_data = np.array(train_list[0], dtype=float)\n",
    "train_np_data = np.reshape(train_np_data, (60000, 28,28))\n",
    "train_np_labels = np.array(train_list[1])"
   ]
  },
  {
   "cell_type": "code",
   "execution_count": 135,
   "metadata": {
    "collapsed": false
   },
   "outputs": [
    {
     "name": "stdout",
     "output_type": "stream",
     "text": [
      "(60000, 28, 28) float64\n",
      "(60000,) int64\n"
     ]
    }
   ],
   "source": [
    "print train_np_data.shape, train_np_data.dtype\n",
    "print train_np_labels.shape, train_np_labels.dtype"
   ]
  },
  {
   "cell_type": "code",
   "execution_count": 136,
   "metadata": {
    "collapsed": false
   },
   "outputs": [],
   "source": [
    "train_data_samples = torch.from_numpy(train_np_data)\n",
    "train_data_samples = train_data_samples.float()\n",
    "train_data_labels = torch.from_numpy(train_np_labels)"
   ]
  },
  {
   "cell_type": "code",
   "execution_count": 137,
   "metadata": {
    "collapsed": false
   },
   "outputs": [
    {
     "name": "stdout",
     "output_type": "stream",
     "text": [
      "<class 'torch.FloatTensor'>\n",
      "torch.Size([60000, 28, 28])\n"
     ]
    }
   ],
   "source": [
    "print type(train_data_samples)\n",
    "print train_data_samples.size()"
   ]
  },
  {
   "cell_type": "code",
   "execution_count": 138,
   "metadata": {
    "collapsed": false
   },
   "outputs": [],
   "source": [
    "custom_train_dataset = torch.utils.data.TensorDataset(train_data_samples, train_data_labels)\n",
    "custom_train_loader = torch.utils.data.DataLoader(custom_train_dataset, batch_size=50, shuffle=True)"
   ]
  },
  {
   "cell_type": "code",
   "execution_count": null,
   "metadata": {
    "collapsed": true
   },
   "outputs": [],
   "source": [
    "def build_custom_dataset(data_path):\n",
    "    # Load the data from disk\n",
    "    mndata = MNIST(data_path)\n",
    "    train_list = mndata.load_training()\n",
    "    test_list = mndata.load_testing()\n",
    "    \n",
    "    # Load into numpy\n",
    "    train_np_data = np.array(train_list[0])\n",
    "    train_np_labels = np.array(train_list[1])\n",
    "    \n",
    "    # Load into Pytorch types\n",
    "    train_data_samples = torch.from_numpy(train_np_data)\n",
    "    train_data_samples = train_data_samples.float()      #Key-factor to train network\n",
    "    train_data_labels = torch.from_numpy(train_np_labels)\n",
    "    \n",
    "    # build pytorch tensor dataset\n",
    "    custom_train_dataset = torch.utils.data.TensorDataset(train_data_samples, train_data_labels)\n",
    "    \n",
    "    return custom_train_dataset"
   ]
  }
 ],
 "metadata": {
  "kernelspec": {
   "display_name": "Python 2",
   "language": "python",
   "name": "python2"
  },
  "language_info": {
   "codemirror_mode": {
    "name": "ipython",
    "version": 2
   },
   "file_extension": ".py",
   "mimetype": "text/x-python",
   "name": "python",
   "nbconvert_exporter": "python",
   "pygments_lexer": "ipython2",
   "version": "2.7.13"
  }
 },
 "nbformat": 4,
 "nbformat_minor": 1
}
