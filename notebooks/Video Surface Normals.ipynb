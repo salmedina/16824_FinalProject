{
 "cells": [
  {
   "cell_type": "code",
   "execution_count": 15,
   "metadata": {
    "collapsed": false
   },
   "outputs": [],
   "source": [
    "import os\n",
    "import glob\n",
    "from PIL import Image\n",
    "from __future__ import division"
   ]
  },
  {
   "cell_type": "code",
   "execution_count": 2,
   "metadata": {
    "collapsed": true
   },
   "outputs": [],
   "source": [
    "# Directories\n",
    "frames_dir = '/Users/zal/CMU/Spring2017/16824/HW/HW1/Videos/Office_Gines/frames/'\n",
    "processed_frames_dir = '/Users/zal/CMU/Spring2017/16824/HW/HW1/Videos/Office_Gines/processed_frames/'\n",
    "padded_proc_frames_dir = '/Users/zal/CMU/Spring2017/16824/HW/HW1/Videos/Office_Gines/padded_processed_frames/'\n",
    "cropped_frames_dir = '/Users/zal/CMU/Spring2017/16824/HW/HW1/Videos/Office_Gines/cropped_frames/'\n",
    "resized_frames_dir = os.path.join(processed_frames_dir, 'resized')\n",
    "comparison_frames_dir = '/Users/zal/CMU/Spring2017/16824/HW/HW1/Videos/Office_Gines/comparison_frames/'\n",
    "\n",
    "# Constants\n",
    "img_ext = '.png'\n",
    "out_dim = 512\n",
    "padding_size = 200\n",
    "black_rgb = (0,0,0)"
   ]
  },
  {
   "cell_type": "code",
   "execution_count": 6,
   "metadata": {
    "collapsed": true
   },
   "outputs": [],
   "source": [
    "def get_img_list(imgs_dir, img_ext):\n",
    "    if img_ext[0] != '.':\n",
    "        img_ext = '.' + img_ext\n",
    "    img_regex = os.path.join(imgs_dir, (\"*\"+img_ext))\n",
    "    img_list = []\n",
    "    for img in glob.glob(img_regex):\n",
    "        img_list.append(img)\n",
    "    return img_list"
   ]
  },
  {
   "cell_type": "code",
   "execution_count": 4,
   "metadata": {
    "collapsed": true
   },
   "outputs": [],
   "source": [
    "def resize_dir_imgs(imgs_dir, size):\n",
    "    '''@size: should be a tuple of (width, height)'''\n",
    "    pass"
   ]
  },
  {
   "cell_type": "code",
   "execution_count": 5,
   "metadata": {
    "collapsed": true
   },
   "outputs": [],
   "source": [
    "def crop_center(img, new_width, new_height):\n",
    "    width, height = img.size   # Get dimensions\n",
    "    \n",
    "    left = (width - new_width)/2\n",
    "    top = (height - new_height)/2\n",
    "    right = (width + new_width)/2\n",
    "    bottom = (height + new_height)/2\n",
    "    \n",
    "    res = img.crop((left, top, right, bottom))\n",
    "    \n",
    "    return res"
   ]
  },
  {
   "cell_type": "markdown",
   "metadata": {},
   "source": [
    "Test what is the size of the images"
   ]
  },
  {
   "cell_type": "code",
   "execution_count": 19,
   "metadata": {
    "collapsed": false
   },
   "outputs": [
    {
     "name": "stdout",
     "output_type": "stream",
     "text": [
      "460\n",
      "1920 1080\n",
      "512 1920\n",
      "910\n"
     ]
    }
   ],
   "source": [
    "orig_frames_list = get_img_list(frames_dir, img_ext)\n",
    "print len(orig_frames_list)\n",
    "frame_1 = Image.open(orig_frames_list[0])\n",
    "orig_height, orig_width = frame_1.height, frame_1.width\n",
    "print orig_height, orig_width"
   ]
  },
  {
   "cell_type": "code",
   "execution_count": 4,
   "metadata": {
    "collapsed": false
   },
   "outputs": [],
   "source": [
    "frames_regex = os.path.join(frames_dir, ('*'+img_ext))\n",
    "for img_path in glob.glob(frames_regex):\n",
    "    img_dir, img_filename = os.path.split(img_path)\n",
    "    img = Image.open(img_path)\n",
    "    min_dim = min(img.height, img.width)\n",
    "    cropped_img = crop_center(img, min_dim, min_dim)\n",
    "    cropped_img = cropped_img.resize((out_dim, out_dim), Image.BILINEAR)\n",
    "    cropped_img_p\n",
    "    ath = os.path.join(cropped_frames_dir, img_filename)\n",
    "    \n",
    "    cropped_img.save(cropped_img_path)"
   ]
  },
  {
   "cell_type": "code",
   "execution_count": 8,
   "metadata": {
    "collapsed": false
   },
   "outputs": [],
   "source": [
    "proc_frames_regex = os.path.join(processed_frames_dir, ('*.png'))\n",
    "for img_path in glob.glob(proc_frames_regex):\n",
    "    img_dir, img_filename = os.path.split(img_path)\n",
    "    img = Image.open(img_path)\n",
    "    resized_img = img.resize((out_dim, out_dim), Image.BILINEAR)\n",
    "    resized_img_path = os.path.join(resized_frames_dir, img_filename)\n",
    "    resized_img.save(resized_img_path)"
   ]
  },
  {
   "cell_type": "code",
   "execution_count": 23,
   "metadata": {
    "collapsed": true
   },
   "outputs": [],
   "source": [
    "def concatenate_images(im1, im2):\n",
    "    images = map(Image.open, [im1, im2])\n",
    "    widths, heights = zip(*(i.size for i in images))\n",
    "    \n",
    "    total_width = sum(widths)\n",
    "    max_height = max(heights)\n",
    "    \n",
    "    new_im = Image.new('RGB', (total_width, max_height))\n",
    "    x_offset = 0\n",
    "    for im in images:\n",
    "        new_im.paste(im, (x_offset, 0))\n",
    "        x_offset += im.size[0] # width\n",
    "    \n",
    "    return new_im"
   ]
  },
  {
   "cell_type": "code",
   "execution_count": 27,
   "metadata": {
    "collapsed": true
   },
   "outputs": [],
   "source": [
    "def set_background(img, bg_size, bg_color):\n",
    "    '''\n",
    "    bg_size: tuple with width and height\n",
    "    bg_color: tuple with (R,G,B) values    \n",
    "    '''\n",
    "    img_w, img_h = img.size\n",
    "    background = Image.new('RGB', bg_size, bg_color)\n",
    "    bg_w, bg_h = bg_size\n",
    "    offset = (int((bg_w - img_w)/2), int((bg_h-img_h)/2))\n",
    "    background.paste(img, offset)\n",
    "    return background"
   ]
  },
  {
   "cell_type": "markdown",
   "metadata": {},
   "source": [
    "- Video Dimensions: 720 x 1280\n",
    "- Concat frames dimension: 640 x 1280\n",
    "- Video frame aperture: 412 x 412"
   ]
  },
  {
   "cell_type": "code",
   "execution_count": 21,
   "metadata": {
    "collapsed": false
   },
   "outputs": [],
   "source": [
    "for img_path in glob.glob(os.path.join(processed_frames_dir, '*.png')):\n",
    "    # Load the image\n",
    "    img = Image.open(img_path)\n",
    "    # upsample the image\n",
    "    proc_frame_ratio = out_dim/orig_width\n",
    "    proc_frame_width = out_dim\n",
    "    proc_frame_heigth = int(proc_frame_ratio * orig_height)\n",
    "    resized_proc_frame = img.resize((proc_frame_width,proc_frame_heigth), Image.BILINEAR)\n",
    "    # crop to be a squared image of out_dim x out_dim\n",
    "    cropped_proc_frame = crop_center(resized_proc_frame, out_dim, out_dim)\n",
    "    # save file\n",
    "    _, img_name = os.path.split(img_path)\n",
    "    padded_path = os.path.join(padded_proc_frames_dir, img_name)\n",
    "    cropped_proc_frame.save(padded_path)"
   ]
  },
  {
   "cell_type": "code",
   "execution_count": 28,
   "metadata": {
    "collapsed": false
   },
   "outputs": [],
   "source": [
    "# Build tuples of frames\n",
    "cropped_frames = []\n",
    "for img in glob.glob(os.path.join(cropped_frames_dir, \"*.png\")):\n",
    "    cropped_frames.append(img)\n",
    "processed_frames = []\n",
    "for img in glob.glob(os.path.join(padded_proc_frames_dir, \"*.png\")):\n",
    "    processed_frames.append(img)\n",
    "\n",
    "video_size = (1280, 720)\n",
    "video_fit_size = (640, 1280)\n",
    "for pair in zip(cropped_frames, processed_frames):\n",
    "    # Concatenate the frames\n",
    "    concat_img = concatenate_images(pair[0], pair[1])\n",
    "    \n",
    "    # Resize into 720p\n",
    "    video_fit_h, video_fit_w = video_fit_size\n",
    "    video_fit_img = concat_img.resize((video_fit_w, video_fit_h), Image.BILINEAR)\n",
    "\n",
    "    # Add black background\n",
    "    video_frame = set_background(video_fit_img, video_size, black_rgb)\n",
    "    \n",
    "    # Store the concatenated frames\n",
    "    _, frame_name = os.path.split(pair[0])\n",
    "    frame_path = os.path.join(comparison_frames_dir, frame_name)\n",
    "    video_frame.save(frame_path)"
   ]
  },
  {
   "cell_type": "markdown",
   "metadata": {},
   "source": [
    "Convert frames to video:\n",
    "\n",
    "```\n",
    "ffmpeg -start_number 0 -i \"/Users/zal/CMU/Spring2017/16824/HW/HW1/Videos/Office_Gines/comparison_frames/%09d.png\" -c:v libx264 -vf \"fps=30,format=yuv420p\" comparison.mp4\n",
    "```\n"
   ]
  }
 ],
 "metadata": {
  "kernelspec": {
   "display_name": "Python 2",
   "language": "python",
   "name": "python2"
  },
  "language_info": {
   "codemirror_mode": {
    "name": "ipython",
    "version": 2
   },
   "file_extension": ".py",
   "mimetype": "text/x-python",
   "name": "python",
   "nbconvert_exporter": "python",
   "pygments_lexer": "ipython2",
   "version": "2.7.13"
  }
 },
 "nbformat": 4,
 "nbformat_minor": 1
}
