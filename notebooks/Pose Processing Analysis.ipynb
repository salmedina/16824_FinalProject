{
 "cells": [
  {
   "cell_type": "code",
   "execution_count": 22,
   "metadata": {
    "collapsed": true
   },
   "outputs": [],
   "source": [
    "from __future__ import division\n",
    "import sys\n",
    "import re\n",
    "import os\n",
    "import numpy as np\n",
    "from os.path import join, basename\n",
    "import matplotlib.pyplot as plt\n",
    "import seaborn as sns\n",
    "from collections import namedtuple\n",
    "\n",
    "palette = sns.color_palette(\"Set2\", 10)"
   ]
  },
  {
   "cell_type": "markdown",
   "metadata": {},
   "source": [
    "In this notebook we will:\n",
    "\n",
    "- Count the percentage of missing pose estimations for all the clips\n",
    "    - in trainig\n",
    "    - in testing\n",
    "- Get clip with the largest loss of frames"
   ]
  },
  {
   "cell_type": "markdown",
   "metadata": {},
   "source": [
    "## Training"
   ]
  },
  {
   "cell_type": "code",
   "execution_count": 24,
   "metadata": {
    "collapsed": false
   },
   "outputs": [
    {
     "name": "stdout",
     "output_type": "stream",
     "text": [
      "Missing frames:  1081380\n",
      "Total frames:    15167962\n",
      "Missing pct:     0.0712936912685\n"
     ]
    }
   ],
   "source": [
    "log_text = open(join(log_path, 'train_proc.log')).read()\n",
    "regex_res = re.findall(extract_regex, log_text)\n",
    "missing_frames = map(lambda x: int(x), zip(*regex_res)[3])\n",
    "total_frames = map(lambda x: int(x), zip(*regex_res)[4])\n",
    "print 'Missing frames: ', sum(missing_frames)\n",
    "print 'Total frames:   ', sum(total_frames)\n",
    "print 'Missing pct:    ', sum(missing_frames) / sum(total_frames)"
   ]
  },
  {
   "cell_type": "code",
   "execution_count": 13,
   "metadata": {
    "collapsed": false
   },
   "outputs": [],
   "source": [
    "num_logs = 5\n",
    "log_path = '../src/logs'\n",
    "log_path_list = [join(log_path, 'train_proc_%d.log'%(x)) for x in range(1,num_logs+1)]"
   ]
  },
  {
   "cell_type": "code",
   "execution_count": 10,
   "metadata": {
    "collapsed": false
   },
   "outputs": [],
   "source": [
    "extract_regex = r\"\\[(\\d+)\\] (.{5}) (v\\d{3}) .+: (\\d+)\\/(\\d+)\"\n",
    "log_data = []\n",
    "for lfi, log_path in enumerate(log_path_list):\n",
    "    log_text = open(log_path).read()\n",
    "    regex_res = re.findall(extract_regex, log_text)\n",
    "    log_data.append(regex_res)"
   ]
  },
  {
   "cell_type": "code",
   "execution_count": 32,
   "metadata": {
    "collapsed": false
   },
   "outputs": [
    {
     "name": "stdout",
     "output_type": "stream",
     "text": [
      "2 1855 NTW37 v001\n",
      "2 9197 DJ6ZW v015\n",
      "2 9198 DJ6ZW v030\n",
      "3 1504 QN1WE v031\n",
      "4 3964 QAJQC v016\n",
      "4 4141 ZYGYS v029\n",
      "4 4142 ZYGYS v001\n",
      "4 8261 FCDXN v029\n",
      "4 9407 GRBUE v027\n"
     ]
    }
   ],
   "source": [
    "for li,data in enumerate(log_data):\n",
    "    for si,sample in enumerate(data):\n",
    "        if int(sample[3])/int(sample[4]) > 0.99:\n",
    "            print li, sample[0], sample[1], sample[2]"
   ]
  },
  {
   "cell_type": "markdown",
   "metadata": {},
   "source": [
    "## Testing"
   ]
  },
  {
   "cell_type": "code",
   "execution_count": 25,
   "metadata": {
    "collapsed": false
   },
   "outputs": [
    {
     "name": "stdout",
     "output_type": "stream",
     "text": [
      "Missing frames:  253415\n",
      "Total frames:    3826130\n",
      "Missing pct:     0.066232720791\n"
     ]
    }
   ],
   "source": [
    "log_text = open(join(log_path, 'test_proc.log')).read()\n",
    "regex_res = re.findall(extract_regex, log_text)\n",
    "missing_frames = map(lambda x: int(x), zip(*regex_res)[3])\n",
    "total_frames = map(lambda x: int(x), zip(*regex_res)[4])\n",
    "print 'Missing frames: ', sum(missing_frames)\n",
    "print 'Total frames:   ', sum(total_frames)\n",
    "print 'Missing pct:    ', sum(missing_frames) / sum(total_frames)"
   ]
  }
 ],
 "metadata": {
  "kernelspec": {
   "display_name": "Python 2",
   "language": "python",
   "name": "python2"
  },
  "language_info": {
   "codemirror_mode": {
    "name": "ipython",
    "version": 2
   },
   "file_extension": ".py",
   "mimetype": "text/x-python",
   "name": "python",
   "nbconvert_exporter": "python",
   "pygments_lexer": "ipython2",
   "version": "2.7.13"
  }
 },
 "nbformat": 4,
 "nbformat_minor": 1
}
